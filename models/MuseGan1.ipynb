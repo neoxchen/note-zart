{
  "nbformat": 4,
  "nbformat_minor": 0,
  "metadata": {
    "colab": {
      "name": "MuseGan.ipynb",
      "provenance": [],
      "collapsed_sections": [],
      "machine_shape": "hm"
    },
    "kernelspec": {
      "name": "python3",
      "display_name": "Python 3"
    },
    "accelerator": "GPU"
  },
  "cells": [
    {
      "cell_type": "markdown",
      "metadata": {
        "id": "qgXVFl5SmZvC"
      },
      "source": [
        "# Generating Music with GANs"
      ]
    },
    {
      "cell_type": "code",
      "source": [
        "# To confirm AWS connection\n",
        "from tensorflow.python.client import device_lib\n",
        "print(device_lib.list_local_devices())"
      ],
      "metadata": {
        "id": "M2U_5Yh2RVA_"
      },
      "execution_count": null,
      "outputs": []
    },
    {
      "cell_type": "markdown",
      "metadata": {
        "id": "mArAbLs2mBhd"
      },
      "source": [
        "## Prerequisites"
      ]
    },
    {
      "cell_type": "markdown",
      "metadata": {
        "id": "aeGaPSXNdqy-"
      },
      "source": [
        "### Install dependencies"
      ]
    },
    {
      "cell_type": "code",
      "metadata": {
        "id": "CJ_cVBuhk13r"
      },
      "source": [
        "!pip3 install torch matplotlib tqdm livelossplot gdown \"pypianoroll>=1.0.2\""
      ],
      "execution_count": null,
      "outputs": []
    },
    {
      "cell_type": "markdown",
      "metadata": {
        "id": "Bn-74oKmdyF7"
      },
      "source": [
        "### Import libraries"
      ]
    },
    {
      "cell_type": "code",
      "metadata": {
        "id": "zOkT9h38krfZ"
      },
      "source": [
        "from IPython.display import clear_output\n",
        "from ipywidgets import interact, IntSlider\n",
        "\n",
        "import os\n",
        "import os.path\n",
        "import random\n",
        "from pathlib import Path\n",
        "\n",
        "import numpy as np\n",
        "import matplotlib.pyplot as plt\n",
        "import torch\n",
        "import pypianoroll\n",
        "from pypianoroll import Multitrack, Track\n",
        "from tqdm import tqdm\n",
        "from livelossplot import PlotLosses\n",
        "from livelossplot.outputs import MatplotlibPlot"
      ],
      "execution_count": null,
      "outputs": []
    },
    {
      "cell_type": "markdown",
      "metadata": {
        "id": "6VyXuXFtoLxL"
      },
      "source": [
        "## Settings"
      ]
    },
    {
      "cell_type": "code",
      "metadata": {
        "id": "PA14sQ-YoTvW"
      },
      "source": [
        "# Data\n",
        "n_tracks = 5  # number of tracks\n",
        "n_pitches = 72  # number of pitches\n",
        "lowest_pitch = 24  # MIDI note number of the lowest pitch\n",
        "n_samples_per_song = 8  # number of samples to extract from each song in the datset\n",
        "n_measures = 4  # number of measures per sample\n",
        "beat_resolution = 4  # temporal resolution of a beat (in timestep)\n",
        "programs = [0, 0, 25, 33, 48]  # program number for each track\n",
        "is_drums = [True, False, False, False, False]  # drum indicator for each track\n",
        "track_names = ['Drums', 'Piano', 'Guitar', 'Bass', 'Strings']  # name of each track\n",
        "tempo = 100\n",
        "\n",
        "# Training\n",
        "batch_size = 16\n",
        "latent_dim = 128\n",
        "n_steps = 20000\n",
        "\n",
        "# Sampling\n",
        "sample_interval = 100  # interval to run the sampler (in step)\n",
        "n_samples = 4"
      ],
      "execution_count": null,
      "outputs": []
    },
    {
      "cell_type": "code",
      "metadata": {
        "id": "F91IBYd8mr9f"
      },
      "source": [
        "measure_resolution = 4 * beat_resolution\n",
        "tempo_array = np.full((4 * 4 * measure_resolution, 1), tempo)\n",
        "assert 24 % beat_resolution == 0, (\n",
        "    \"beat_resolution must be a factor of 24 (the beat resolution used in \"\n",
        "    \"the source dataset).\"\n",
        ")\n",
        "assert len(programs) == len(is_drums) and len(programs) == len(track_names), (\n",
        "    \"Lengths of programs, is_drums and track_names must be the same.\"\n",
        ")    "
      ],
      "execution_count": null,
      "outputs": []
    },
    {
      "cell_type": "markdown",
      "metadata": {
        "id": "-JyxQDtXfhbp"
      },
      "source": [
        "## Data Prepration"
      ]
    },
    {
      "cell_type": "markdown",
      "metadata": {
        "id": "79jp0AoJep4X"
      },
      "source": [
        "### Download the Lakh Pianoroll Dataset (LPD)"
      ]
    },
    {
      "cell_type": "code",
      "metadata": {
        "id": "zTdEEg2Xdnbt"
      },
      "source": [
        "!mkdir -p data\n",
        "\n",
        "!gdown -O data/lpd_5_cleansed.tar.gz https://drive.google.com/uc?id=1yz0Ma-6cWTl6mhkrLnAVJ7RNzlQRypQ5\n",
        "!gdown -O data/id_lists_amg.tar.gz https://drive.google.com/uc?id=1hp9b_g1hu_dkP4u8h46iqHeWMaUoI07R\n",
        "!gdown -O data/id_lists_lastfm.tar.gz https://drive.google.com/uc?id=1mpsoxU2fU1AjKopkcQ8Q8V6wYmVPbnPO\n",
        "\n",
        "!tar zxf data/lpd_5_cleansed.tar.gz -C data/\n",
        "!tar zxf data/id_lists_amg.tar.gz -C data/\n",
        "!tar zxf data/id_lists_lastfm.tar.gz -C data/"
      ],
      "execution_count": null,
      "outputs": []
    },
    {
      "cell_type": "code",
      "metadata": {
        "id": "GoN6wcDDjIDG"
      },
      "source": [
        "dataset_root = Path(\"data/lpd_5/lpd_5_cleansed/\")\n",
        "id_list = []\n",
        "for path in os.listdir(\"data/amg\"):\n",
        "    filepath = os.path.join(\"data/amg\", path)\n",
        "    if os.path.isfile(filepath):\n",
        "        with open(filepath) as f:\n",
        "            id_list.extend([line.rstrip() for line in f])\n",
        "id_list = list(set(id_list))"
      ],
      "execution_count": null,
      "outputs": []
    },
    {
      "cell_type": "code",
      "metadata": {
        "id": "UWDFp1pR5CQd"
      },
      "source": [
        "def msd_id_to_dirs(msd_id):\n",
        "    \"\"\"Given an MSD ID, generate the path prefix.\n",
        "    E.g. TRABCD12345678 -> A/B/C/TRABCD12345678\"\"\"\n",
        "    return os.path.join(msd_id[2], msd_id[3], msd_id[4], msd_id)"
      ],
      "execution_count": null,
      "outputs": []
    },
    {
      "cell_type": "markdown",
      "metadata": {
        "id": "Nvn3WqbMfaiz"
      },
      "source": [
        "### Visualize an example of pianorolls in LPD"
      ]
    },
    {
      "cell_type": "code",
      "metadata": {
        "id": "8JPHTDHL54F0"
      },
      "source": [
        "song_dir = dataset_root / msd_id_to_dirs('TREVDFX128E07859E0') # 'TRQAOWZ128F93000A4', 'TREVDFX128E07859E0'\n",
        "multitrack = pypianoroll.load(song_dir / os.listdir(song_dir)[0])\n",
        "multitrack.trim(end=12 * 96)\n",
        "axs = multitrack.plot()\n",
        "plt.gcf().set_size_inches((16, 8))\n",
        "for ax in axs:\n",
        "    for x in range(96, 12 * 96, 96):     \n",
        "        ax.axvline(x - 0.5, color='k', linestyle='-', linewidth=1)\n",
        "plt.show()"
      ],
      "execution_count": null,
      "outputs": []
    },
    {
      "cell_type": "markdown",
      "metadata": {
        "id": "iGRUCRm_CGej"
      },
      "source": [
        "### Collect training data"
      ]
    },
    {
      "cell_type": "code",
      "metadata": {
        "id": "MPGrsycbhodh"
      },
      "source": [
        "data = []\n",
        "# Iterate over all the songs in the ID list\n",
        "for msd_id in tqdm(id_list):\n",
        "    # Load the multitrack as a pypianoroll.Multitrack instance\n",
        "    song_dir = dataset_root / msd_id_to_dirs(msd_id)\n",
        "    multitrack = pypianoroll.load(song_dir / os.listdir(song_dir)[0])\n",
        "    # Binarize the pianorolls\n",
        "    multitrack.binarize()\n",
        "    # Downsample the pianorolls (shape: n_timesteps x n_pitches)\n",
        "    multitrack.set_resolution(beat_resolution)\n",
        "    # Stack the pianoroll (shape: n_tracks x n_timesteps x n_pitches)\n",
        "    pianoroll = (multitrack.stack() > 0)\n",
        "    # Get the target pitch range only\n",
        "    pianoroll = pianoroll[:, :, lowest_pitch:lowest_pitch + n_pitches]\n",
        "    # Calculate the total measures\n",
        "    n_total_measures = multitrack.get_max_length() // measure_resolution\n",
        "    candidate = n_total_measures - n_measures\n",
        "    target_n_samples = min(n_total_measures // n_measures, n_samples_per_song)\n",
        "    # Randomly select a number of phrases from the multitrack pianoroll\n",
        "    for idx in np.random.choice(candidate, target_n_samples, False):\n",
        "        start = idx * measure_resolution\n",
        "        end = (idx + n_measures) * measure_resolution\n",
        "        # Skip the samples where some track(s) has too few notes\n",
        "        if (pianoroll.sum(axis=(1, 2)) < 10).any():\n",
        "            continue\n",
        "        data.append(pianoroll[:, start:end])\n",
        "# Stack all the collected pianoroll segments into one big array\n",
        "random.shuffle(data)\n",
        "data = np.stack(data)\n",
        "print(f\"Successfully collect {len(data)} samples from {len(id_list)} songs\")\n",
        "print(f\"Data shape : {data.shape}\")"
      ],
      "execution_count": null,
      "outputs": []
    },
    {
      "cell_type": "markdown",
      "metadata": {
        "id": "uqpNtJFae4aF"
      },
      "source": [
        "### Visualize an example of training samples"
      ]
    },
    {
      "cell_type": "code",
      "metadata": {
        "id": "3fkoP9rGgrLH"
      },
      "source": [
        "tracks = []\n",
        "for idx, (program, is_drum, track_name) in enumerate(zip(programs, is_drums, track_names)):\n",
        "    pianoroll = np.pad(\n",
        "        np.concatenate(data[:4], 1)[idx], ((0, 0), (lowest_pitch, 128 - lowest_pitch - n_pitches)))\n",
        "    tracks.append(Track(name=track_name, program=program, is_drum=is_drum, pianoroll=pianoroll))\n",
        "multitrack = Multitrack(tracks=tracks, tempo=tempo_array, resolution=beat_resolution)\n",
        "axs = multitrack.plot()\n",
        "plt.gcf().set_size_inches((16, 8))\n",
        "for ax in axs:\n",
        "    for x in range(measure_resolution, 4 * 4 * measure_resolution, measure_resolution):\n",
        "        if x % (measure_resolution * 4) == 0:\n",
        "            ax.axvline(x - 0.5, color='k')\n",
        "        else:\n",
        "            ax.axvline(x - 0.5, color='k', linestyle='-', linewidth=1)\n",
        "plt.show()"
      ],
      "execution_count": null,
      "outputs": []
    },
    {
      "cell_type": "markdown",
      "metadata": {
        "id": "V6fauic_H2wt"
      },
      "source": [
        "### Create dataset and data loader"
      ]
    },
    {
      "cell_type": "code",
      "metadata": {
        "id": "gBxjQEZFRhAK"
      },
      "source": [
        "data = torch.as_tensor(data, dtype=torch.float32)\n",
        "dataset = torch.utils.data.TensorDataset(data)\n",
        "data_loader = torch.utils.data.DataLoader(\n",
        "    dataset, batch_size=batch_size, drop_last=True, shuffle=True)"
      ],
      "execution_count": null,
      "outputs": []
    },
    {
      "cell_type": "markdown",
      "metadata": {
        "id": "94rrn1nmIQlG"
      },
      "source": [
        "## Model"
      ]
    },
    {
      "cell_type": "markdown",
      "metadata": {
        "id": "SyX6Duf5fkiw"
      },
      "source": [
        " ### Define the generator"
      ]
    },
    {
      "cell_type": "code",
      "metadata": {
        "id": "Fj9sCKbSKcse"
      },
      "source": [
        "class GeneraterBlock(torch.nn.Module):\n",
        "    def __init__(self, in_dim, out_dim, kernel, stride):\n",
        "        super().__init__()\n",
        "        self.transconv = torch.nn.ConvTranspose3d(in_dim, out_dim, kernel, stride)\n",
        "        self.batchnorm = torch.nn.BatchNorm3d(out_dim)\n",
        "    \n",
        "    def forward(self, x):\n",
        "        x = self.transconv(x)\n",
        "        x = self.batchnorm(x)\n",
        "        return torch.nn.functional.relu(x)"
      ],
      "execution_count": null,
      "outputs": []
    },
    {
      "cell_type": "code",
      "metadata": {
        "id": "ZWPAxfkmsIWn"
      },
      "source": [
        "class Generator(torch.nn.Module):\n",
        "    \"\"\"A convolutional neural network (CNN) based generator. The generator takes\n",
        "    as input a latent vector and outputs a fake sample.\"\"\"\n",
        "    def __init__(self):\n",
        "        super().__init__()\n",
        "        self.transconv0 = GeneraterBlock(latent_dim, 256, (4, 1, 1), (4, 1, 1))\n",
        "        self.transconv1 = GeneraterBlock(256, 128, (1, 4, 1), (1, 4, 1))\n",
        "        self.transconv2 = GeneraterBlock(128, 64, (1, 1, 4), (1, 1, 4))\n",
        "        self.transconv3 = GeneraterBlock(64, 32, (1, 1, 3), (1, 1, 1))\n",
        "        self.transconv4 = torch.nn.ModuleList([\n",
        "            GeneraterBlock(32, 16, (1, 4, 1), (1, 4, 1))\n",
        "            for _ in range(n_tracks)\n",
        "        ])\n",
        "        self.transconv5 = torch.nn.ModuleList([\n",
        "            GeneraterBlock(16, 1, (1, 1, 12), (1, 1, 12))\n",
        "            for _ in range(n_tracks)\n",
        "        ])\n",
        "\n",
        "    def forward(self, x):\n",
        "        x = x.view(-1, latent_dim, 1, 1, 1)\n",
        "        x = self.transconv0(x)\n",
        "        x = self.transconv1(x)\n",
        "        x = self.transconv2(x)\n",
        "        x = self.transconv3(x)\n",
        "        x = [transconv(x) for transconv in self.transconv4]\n",
        "        x = torch.cat([transconv(x_) for x_, transconv in zip(x, self.transconv5)], 1)\n",
        "        x = x.view(-1, n_tracks, n_measures * measure_resolution, n_pitches)\n",
        "        return x"
      ],
      "execution_count": null,
      "outputs": []
    },
    {
      "cell_type": "markdown",
      "metadata": {
        "id": "cJPGeYNbfvw6"
      },
      "source": [
        " ### Define the discriminator"
      ]
    },
    {
      "cell_type": "code",
      "metadata": {
        "id": "Knw5u6Px2c8j"
      },
      "source": [
        "class LayerNorm(torch.nn.Module):\n",
        "    \"\"\"An implementation of Layer normalization that does not require size\n",
        "    information. Copied from https://github.com/pytorch/pytorch/issues/1959.\"\"\"\n",
        "    def __init__(self, n_features, eps=1e-5, affine=True):\n",
        "        super().__init__()\n",
        "        self.n_features = n_features\n",
        "        self.affine = affine\n",
        "        self.eps = eps\n",
        "        if self.affine:\n",
        "            self.gamma = torch.nn.Parameter(torch.Tensor(n_features).uniform_())\n",
        "            self.beta = torch.nn.Parameter(torch.zeros(n_features))\n",
        "\n",
        "    def forward(self, x):\n",
        "        shape = [-1] + [1] * (x.dim() - 1)\n",
        "        mean = x.view(x.size(0), -1).mean(1).view(*shape)\n",
        "        std = x.view(x.size(0), -1).std(1).view(*shape)\n",
        "        y = (x - mean) / (std + self.eps)\n",
        "        if self.affine:\n",
        "            shape = [1, -1] + [1] * (x.dim() - 2)\n",
        "            y = self.gamma.view(*shape) * y + self.beta.view(*shape)\n",
        "        return y"
      ],
      "execution_count": null,
      "outputs": []
    },
    {
      "cell_type": "code",
      "metadata": {
        "id": "gZhbO2jiFLG5"
      },
      "source": [
        "class DiscriminatorBlock(torch.nn.Module):\n",
        "    def __init__(self, in_dim, out_dim, kernel, stride):\n",
        "        super().__init__()\n",
        "        self.transconv = torch.nn.Conv3d(in_dim, out_dim, kernel, stride)\n",
        "        self.layernorm = LayerNorm(out_dim)\n",
        "    \n",
        "    def forward(self, x):\n",
        "        x = self.transconv(x)\n",
        "        x = self.layernorm(x)\n",
        "        return torch.nn.functional.leaky_relu(x)"
      ],
      "execution_count": null,
      "outputs": []
    },
    {
      "cell_type": "code",
      "metadata": {
        "id": "kczm8A8Nl78i"
      },
      "source": [
        "class Discriminator(torch.nn.Module):\n",
        "    \"\"\"A convolutional neural network (CNN) based discriminator. The\n",
        "    discriminator takes as input either a real sample (in the training data) or\n",
        "    a fake sample (generated by the generator) and outputs a scalar indicating\n",
        "    its authentity.\n",
        "    \"\"\"\n",
        "    def __init__(self):\n",
        "        super().__init__()\n",
        "        self.conv0 = torch.nn.ModuleList([\n",
        "            DiscriminatorBlock(1, 16, (1, 1, 12), (1, 1, 12)) for _ in range(n_tracks)\n",
        "        ])\n",
        "        self.conv1 = torch.nn.ModuleList([\n",
        "            DiscriminatorBlock(16, 16, (1, 4, 1), (1, 4, 1)) for _ in range(n_tracks)\n",
        "        ])\n",
        "        self.conv2 = DiscriminatorBlock(16 * 5, 64, (1, 1, 3), (1, 1, 1))\n",
        "        self.conv3 = DiscriminatorBlock(64, 64, (1, 1, 4), (1, 1, 4))\n",
        "        self.conv4 = DiscriminatorBlock(64, 128, (1, 4, 1), (1, 4, 1))\n",
        "        self.conv5 = DiscriminatorBlock(128, 128, (2, 1, 1), (1, 1, 1))\n",
        "        self.conv6 = DiscriminatorBlock(128, 256, (3, 1, 1), (3, 1, 1))\n",
        "        self.dense = torch.nn.Linear(256, 1)\n",
        "\n",
        "    def forward(self, x):\n",
        "        x = x.view(-1, n_tracks, n_measures, measure_resolution, n_pitches)\n",
        "        x = [conv(x[:, [i]]) for i, conv in enumerate(self.conv0)]\n",
        "        x = torch.cat([conv(x_) for x_, conv in zip(x, self.conv1)], 1)\n",
        "        x = self.conv2(x)\n",
        "        x = self.conv3(x)          \n",
        "        x = self.conv4(x)\n",
        "        x = self.conv5(x)\n",
        "        x = self.conv6(x)\n",
        "        x = x.view(-1, 256)\n",
        "        x = self.dense(x)\n",
        "        return x"
      ],
      "execution_count": null,
      "outputs": []
    },
    {
      "cell_type": "markdown",
      "metadata": {
        "id": "IiPl8DYCI7pC"
      },
      "source": [
        "## Training functions"
      ]
    },
    {
      "cell_type": "code",
      "metadata": {
        "id": "5wngyfaaObas"
      },
      "source": [
        "def compute_gradient_penalty(discriminator, real_samples, fake_samples):\n",
        "    \"\"\"Compute the gradient penalty for regularization. Intuitively, the\n",
        "    gradient penalty help stablize the magnitude of the gradients that the\n",
        "    discriminator provides to the generator, and thus help stablize the training\n",
        "    of the generator.\"\"\"\n",
        "    # Get random interpolations between real and fake samples\n",
        "    alpha = torch.rand(real_samples.size(0), 1, 1, 1).cuda()\n",
        "    interpolates = (alpha * real_samples + ((1 - alpha) * fake_samples))\n",
        "    interpolates = interpolates.requires_grad_(True)\n",
        "    # Get the discriminator output for the interpolations\n",
        "    d_interpolates = discriminator(interpolates)\n",
        "    # Get gradients w.r.t. the interpolations\n",
        "    fake = torch.ones(real_samples.size(0), 1).cuda()\n",
        "    gradients = torch.autograd.grad(\n",
        "        outputs=d_interpolates,\n",
        "        inputs=interpolates,\n",
        "        grad_outputs=fake,\n",
        "        create_graph=True,\n",
        "        retain_graph=True,\n",
        "        only_inputs=True\n",
        "    )[0]\n",
        "    # Compute gradient penalty\n",
        "    gradients = gradients.view(gradients.size(0), -1)\n",
        "    gradient_penalty = ((gradients.norm(2, dim=1) - 1) ** 2).mean()\n",
        "    return gradient_penalty"
      ],
      "execution_count": null,
      "outputs": []
    },
    {
      "cell_type": "code",
      "metadata": {
        "id": "x3mgXtVN8ldM"
      },
      "source": [
        "def train_one_step(d_optimizer, g_optimizer, real_samples):\n",
        "    \"\"\"Train the networks for one step.\"\"\"\n",
        "    # Sample from the lantent distribution\n",
        "    latent = torch.randn(batch_size, latent_dim)\n",
        "\n",
        "    # Transfer data to GPU\n",
        "    if torch.cuda.is_available():\n",
        "        real_samples = real_samples.cuda()\n",
        "        latent = latent.cuda()\n",
        "    \n",
        "    # === Train the discriminator ===\n",
        "    # Reset cached gradients to zero\n",
        "    d_optimizer.zero_grad()\n",
        "    # Get discriminator outputs for the real samples\n",
        "    prediction_real = discriminator(real_samples)\n",
        "    # Compute the loss function\n",
        "    # d_loss_real = torch.mean(torch.nn.functional.relu(1. - prediction_real))\n",
        "    d_loss_real = -torch.mean(prediction_real)\n",
        "    # Backpropagate the gradients\n",
        "    d_loss_real.backward()\n",
        "    \n",
        "    # Generate fake samples with the generator\n",
        "    fake_samples = generator(latent)\n",
        "    # Get discriminator outputs for the fake samples\n",
        "    prediction_fake_d = discriminator(fake_samples.detach())\n",
        "    # Compute the loss function\n",
        "    # d_loss_fake = torch.mean(torch.nn.functional.relu(1. + prediction_fake_d))\n",
        "    d_loss_fake = torch.mean(prediction_fake_d)\n",
        "    # Backpropagate the gradients\n",
        "    d_loss_fake.backward()\n",
        "\n",
        "    # Compute gradient penalty\n",
        "    gradient_penalty = 10.0 * compute_gradient_penalty(\n",
        "        discriminator, real_samples.data, fake_samples.data)\n",
        "    # Backpropagate the gradients\n",
        "    gradient_penalty.backward()\n",
        "\n",
        "    # Update the weights\n",
        "    d_optimizer.step()\n",
        "    \n",
        "    # === Train the generator ===\n",
        "    # Reset cached gradients to zero\n",
        "    g_optimizer.zero_grad()\n",
        "    # Get discriminator outputs for the fake samples\n",
        "    prediction_fake_g = discriminator(fake_samples)\n",
        "    # Compute the loss function\n",
        "    g_loss = -torch.mean(prediction_fake_g)\n",
        "    # Backpropagate the gradients\n",
        "    g_loss.backward()\n",
        "    # Update the weights\n",
        "    g_optimizer.step()\n",
        "\n",
        "    return d_loss_real + d_loss_fake, g_loss"
      ],
      "execution_count": null,
      "outputs": []
    },
    {
      "cell_type": "markdown",
      "metadata": {
        "id": "4ukfh1dxIsDw"
      },
      "source": [
        "## Training Preparation"
      ]
    },
    {
      "cell_type": "code",
      "metadata": {
        "id": "uCqTBe3p09xY"
      },
      "source": [
        "# Create data loader\n",
        "# data_loader = get_data_loader()\n",
        "\n",
        "# Create neural networks\n",
        "discriminator = Discriminator()\n",
        "generator = Generator()\n",
        "print(\"Number of parameters in G: {}\".format(\n",
        "    sum(p.numel() for p in generator.parameters() if p.requires_grad)))\n",
        "print(\"Number of parameters in D: {}\".format(\n",
        "    sum(p.numel() for p in discriminator.parameters() if p.requires_grad)))\n",
        "\n",
        "# Create optimizers\n",
        "d_optimizer = torch.optim.Adam(\n",
        "    discriminator.parameters(), lr=0.001,  betas=(0.5, 0.9))\n",
        "g_optimizer = torch.optim.Adam(\n",
        "    generator.parameters(), lr=0.001, betas=(0.5, 0.9))\n",
        "\n",
        "# Prepare the inputs for the sampler, which wil run during the training\n",
        "sample_latent = torch.randn(n_samples, latent_dim)\n",
        "\n",
        "# Transfer the neural nets and samples to GPU\n",
        "if torch.cuda.is_available():\n",
        "    discriminator = discriminator.cuda()\n",
        "    generator = generator.cuda()\n",
        "    sample_latent = sample_latent.cuda()\n",
        "\n",
        "# Create an empty dictionary to sotre history samples\n",
        "history_samples = {}\n",
        "\n",
        "# Create a LiveLoss logger instance for monitoring\n",
        "liveloss = PlotLosses(outputs=[MatplotlibPlot(cell_size=(6,2))])\n",
        "\n",
        "# Initialize step\n",
        "step = 0"
      ],
      "execution_count": null,
      "outputs": []
    },
    {
      "cell_type": "markdown",
      "metadata": {
        "id": "cL499fTNJcSd"
      },
      "source": [
        "## Training"
      ]
    },
    {
      "cell_type": "code",
      "metadata": {
        "id": "JsCO34_A3N2U"
      },
      "source": [
        "# Create a progress bar instance for monitoring\n",
        "progress_bar = tqdm(total=n_steps, initial=step, ncols=80, mininterval=1)\n",
        "\n",
        "# Start iterations\n",
        "while step < n_steps + 1:\n",
        "    # Iterate over the dataset\n",
        "    for real_samples in data_loader:\n",
        "        # Train the neural networks\n",
        "        generator.train()\n",
        "        d_loss, g_loss = train_one_step(d_optimizer, g_optimizer, real_samples[0])\n",
        "\n",
        "        # Record smoothened loss values to LiveLoss logger\n",
        "        if step > 0:\n",
        "            running_d_loss = 0.05 * d_loss + 0.95 * running_d_loss\n",
        "            running_g_loss = 0.05 * g_loss + 0.95 * running_g_loss\n",
        "        else:\n",
        "            running_d_loss, running_g_loss = 0.0, 0.0\n",
        "        liveloss.update({'negative_critic_loss': -running_d_loss})\n",
        "        # liveloss.update({'d_loss': running_d_loss, 'g_loss': running_g_loss})\n",
        "        \n",
        "        # Update losses to progress bar\n",
        "        progress_bar.set_description_str(\n",
        "            \"(d_loss={: 8.6f}, g_loss={: 8.6f})\".format(d_loss, g_loss))\n",
        "        \n",
        "        if step % sample_interval == 0:\n",
        "            # Get generated samples\n",
        "            generator.eval()\n",
        "            samples = generator(sample_latent).cpu().detach().numpy()\n",
        "            history_samples[step] = samples\n",
        "\n",
        "            # Display loss curves\n",
        "            clear_output(True)\n",
        "            if step > 0:\n",
        "                liveloss.send()\n",
        "            \n",
        "            # Display generated samples\n",
        "            samples = samples.transpose(1, 0, 2, 3).reshape(n_tracks, -1, n_pitches)\n",
        "            tracks = []\n",
        "            for idx, (program, is_drum, track_name) in enumerate(\n",
        "                zip(programs, is_drums, track_names)\n",
        "            ):\n",
        "                pianoroll = np.pad(\n",
        "                    samples[idx] > 0.5,\n",
        "                    ((0, 0), (lowest_pitch, 128 - lowest_pitch - n_pitches))\n",
        "                )\n",
        "                tracks.append(\n",
        "                    Track(\n",
        "                        name=track_name,\n",
        "                        program=program,\n",
        "                        is_drum=is_drum,\n",
        "                        pianoroll=pianoroll\n",
        "                    )\n",
        "                )\n",
        "            m = Multitrack(\n",
        "                tracks=tracks,\n",
        "                tempo=tempo_array,\n",
        "                resolution=beat_resolution\n",
        "            )\n",
        "            axs = m.plot()\n",
        "            plt.gcf().set_size_inches((16, 8))\n",
        "            for ax in axs:\n",
        "                for x in range(\n",
        "                    measure_resolution,\n",
        "                    4 * measure_resolution * n_measures,\n",
        "                    measure_resolution\n",
        "                ):\n",
        "                    if x % (measure_resolution * 4) == 0:\n",
        "                        ax.axvline(x - 0.5, color='k')\n",
        "                    else:\n",
        "                        ax.axvline(x - 0.5, color='k', linestyle='-', linewidth=1)\n",
        "            plt.show()\n",
        "            \n",
        "        step += 1\n",
        "        progress_bar.update(1)\n",
        "        if step >= n_steps:\n",
        "            break"
      ],
      "execution_count": null,
      "outputs": []
    },
    {
      "cell_type": "markdown",
      "metadata": {
        "id": "UjX855uYf6sC"
      },
      "source": [
        "## Training History"
      ]
    },
    {
      "cell_type": "code",
      "metadata": {
        "id": "XqN1sKoODaCm"
      },
      "source": [
        "# Show history\n",
        "steps = [0, sample_interval, 10 * sample_interval, 100 * sample_interval, n_steps]\n",
        "for step in steps:\n",
        "    print(f\"Step={step}\")\n",
        "    samples = history_samples[step].transpose(1, 0, 2, 3).reshape(n_tracks, -1, n_pitches)\n",
        "    tracks = []\n",
        "    for idx, (program, is_drum, track_name) in enumerate(zip(programs, is_drums, track_names)):\n",
        "        pianoroll = np.pad(\n",
        "            samples[idx] > 0.5,\n",
        "            ((0, 0), (lowest_pitch, 128 - lowest_pitch - n_pitches))\n",
        "        )\n",
        "        tracks.append(\n",
        "            Track(\n",
        "                name=track_name,\n",
        "                program=program,\n",
        "                is_drum=is_drum,\n",
        "                pianoroll=pianoroll,\n",
        "            )\n",
        "        )\n",
        "    m = Multitrack(tracks=tracks, tempo=tempo_array, resolution=beat_resolution)\n",
        "    axs = m.plot()\n",
        "    for ax in axs:\n",
        "        for x in range(\n",
        "            measure_resolution,\n",
        "            4 * measure_resolution * n_measures,\n",
        "            measure_resolution\n",
        "        ):\n",
        "            if x % (measure_resolution * 4) == 0:\n",
        "                ax.axvline(x - 0.5, color='k')\n",
        "            else:\n",
        "                ax.axvline(x - 0.5, color='k', linestyle='-', linewidth=1)\n",
        "    plt.gcf().set_size_inches((16, 8))\n",
        "    plt.show()"
      ],
      "execution_count": null,
      "outputs": []
    },
    {
      "cell_type": "code",
      "metadata": {
        "id": "aeJpOeUXjdBu"
      },
      "source": [
        ""
      ],
      "execution_count": null,
      "outputs": []
    }
  ]
}