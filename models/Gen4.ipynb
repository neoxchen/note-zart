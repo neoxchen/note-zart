{
 "cells": [
  {
   "cell_type": "code",
   "execution_count": 1,
   "id": "05ceb0a2",
   "metadata": {},
   "outputs": [],
   "source": [
    "import pandas as pd\n",
    "import tensorflow as tf\n",
    "from matplotlib import pyplot as plt\n",
    "import sys\n",
    "sys.path.append('..')\n",
    "from data.load_data import *\n",
    "from processing.utils import *\n",
    "from NotezartTransformer import NotezartTransformer\n",
    "\n",
    "import pickle\n",
    "from pathlib import Path\n",
    "\n",
    "#print(\"Num GPUs Available: \", len(tf.config.list_physical_devices('GPU')))\n",
    "\n",
    "seed = 2022\n",
    "tf.random.set_seed(seed)\n",
    "np.random.seed(seed)\n",
    "\n",
    "checkpoint_path = Path('resource/gen4/v2').absolute()"
   ]
  },
  {
   "cell_type": "code",
   "execution_count": 2,
   "id": "6586fa2f",
   "metadata": {},
   "outputs": [],
   "source": [
    "# read in a midi file as an array of events\n",
    "def read_midi(midi_path):\n",
    "    note_items, tempo_items = read_items(midi_path)\n",
    "    note_items = quantize_items(note_items)\n",
    "    max_time = note_items[-1].end\n",
    "    chord_items = extract_chords(note_items)\n",
    "    items = chord_items + tempo_items + note_items\n",
    "    groups = group_items(items, max_time)\n",
    "    events = item2event(groups)\n",
    "    return np.array(events, dtype=object)\n",
    "\n",
    "# read in a series of midi files as a list of sequence of events\n",
    "def transform_midi(midi_paths):\n",
    "    # extract events\n",
    "    events = []\n",
    "    all_events = []\n",
    "    for path in midi_paths:\n",
    "        try:\n",
    "            midi = read_midi(path)\n",
    "            events.append(np.asarray([e.to_key() for e in midi]))\n",
    "            all_events.append(midi)\n",
    "        except:\n",
    "            print(f\"Failed: {path}\")\n",
    "    return all_events, np.asarray(events, dtype=object)\n",
    "\n",
    "def build_lookup(midi_paths, dictionary_path):\n",
    "    all_events, events = transform_midi(midi_paths=midi_paths)\n",
    "\n",
    "    unique_events = np.unique([e for s in events for e in s])\n",
    "    event2word = dict(zip(unique_events, list(range(0, len(unique_events)))))\n",
    "    word2event = {i: e for e, i in event2word.items()}\n",
    "\n",
    "    with open(dictionary_path, 'wb') as handle:\n",
    "        pickle.dump([event2word, word2event], handle, protocol=pickle.HIGHEST_PROTOCOL)\n",
    "      \n",
    "    return all_events"
   ]
  },
  {
   "cell_type": "code",
   "execution_count": 3,
   "id": "e6ed2d00",
   "metadata": {},
   "outputs": [],
   "source": [
    "def get_data(training_set_path, model, all_events):\n",
    "    training_data = model.prepare_data(all_events)\n",
    "\n",
    "    with open(training_set_path, 'wb') as handle:\n",
    "        pickle.dump(training_data, handle, protocol=pickle.HIGHEST_PROTOCOL)\n",
    "\n",
    "    return training_data\n",
    "\n",
    "def train_model(dataset_name, pre_load=False):\n",
    "    print(\"Loading data...\")\n",
    "    \n",
    "    training_set_path = f\"{checkpoint_path}/data/training_set_{dataset_name}.pkl\"\n",
    "    dictionary_path = f\"{checkpoint_path}/dictionary/dictionary_{dataset_name}.pkl\"\n",
    "    midi_paths = get_all_files(dataset_name=dataset_name)\n",
    "\n",
    "    if not pre_load:\n",
    "        all_events = build_lookup(midi_paths=midi_paths, dictionary_path=dictionary_path)\n",
    "\n",
    "    model = NotezartTransformer(checkpoint=checkpoint_path, dataset_name=dataset_name, is_training=True)\n",
    "\n",
    "    if pre_load:\n",
    "        training_data = pickle.load(open(training_set_path, 'rb'))\n",
    "    else:\n",
    "        training_data = get_data(training_set_path, model, all_events)\n",
    "\n",
    "    model.load_model()\n",
    "\n",
    "    output_model_folder = f\"{checkpoint_path}/model\" # your decision\n",
    "    model.finetune(epochs=100, training_data=training_data, output_checkpoint_folder=output_model_folder)\n",
    "\n",
    "    return model\n",
    "    "
   ]
  },
  {
   "cell_type": "code",
   "execution_count": 4,
   "id": "16802cfc",
   "metadata": {},
   "outputs": [],
   "source": [
    "def load_model(model_path, dataset_name):\n",
    "    model = NotezartTransformer(checkpoint=checkpoint_path, dataset_name=dataset_name, is_training=False)\n",
    "    model.load_model(existing_model=model_path)\n",
    "    return model"
   ]
  },
  {
   "cell_type": "code",
   "execution_count": 5,
   "id": "374c5424",
   "metadata": {},
   "outputs": [
    {
     "ename": "TypeError",
     "evalue": "load_model() takes 1 positional argument but 2 were given",
     "output_type": "error",
     "traceback": [
      "\u001b[0;31m---------------------------------------------------------------------------\u001b[0m",
      "\u001b[0;31mTypeError\u001b[0m                                 Traceback (most recent call last)",
      "\u001b[0;32m<ipython-input-5-2ff5d89a48b8>\u001b[0m in \u001b[0;36m<module>\u001b[0;34m\u001b[0m\n\u001b[1;32m      1\u001b[0m \u001b[0;31m#model = train_model(\"ADL_MOZART\", True)\u001b[0m\u001b[0;34m\u001b[0m\u001b[0;34m\u001b[0m\u001b[0;34m\u001b[0m\u001b[0m\n\u001b[0;32m----> 2\u001b[0;31m \u001b[0mmodel\u001b[0m \u001b[0;34m=\u001b[0m \u001b[0mload_model\u001b[0m\u001b[0;34m(\u001b[0m\u001b[0;34mf\"{checkpoint_path}/model/model-027\"\u001b[0m\u001b[0;34m,\u001b[0m \u001b[0;34m\"ADL_MOZART\"\u001b[0m\u001b[0;34m)\u001b[0m\u001b[0;34m\u001b[0m\u001b[0;34m\u001b[0m\u001b[0m\n\u001b[0m",
      "\u001b[0;31mTypeError\u001b[0m: load_model() takes 1 positional argument but 2 were given"
     ]
    }
   ],
   "source": [
    "#model = train_model(\"ADL\", True)\n",
    "model = load_model(f\"{checkpoint_path}/model/model-027\", \"ADL\")"
   ]
  },
  {
   "cell_type": "code",
   "execution_count": null,
   "id": "f9c0e09d",
   "metadata": {},
   "outputs": [
    {
     "name": "stdout",
     "output_type": "stream",
     "text": [
      "/Users/alecyu/Desktop/Repos/AppliedDeepLearning/note-zart/models/resource/gen4/v2/output/sample_t1.0_k2.midi\n",
      "/Users/alecyu/Desktop/Repos/AppliedDeepLearning/note-zart/models/resource/gen4/v2/output/sample_t1.0_k3.midi\n",
      "/Users/alecyu/Desktop/Repos/AppliedDeepLearning/note-zart/models/resource/gen4/v2/output/sample_t1.0_k4.midi\n",
      "/Users/alecyu/Desktop/Repos/AppliedDeepLearning/note-zart/models/resource/gen4/v2/output/sample_t1.0_k5.midi\n",
      "/Users/alecyu/Desktop/Repos/AppliedDeepLearning/note-zart/models/resource/gen4/v2/output/sample_t1.1_k2.midi\n",
      "/Users/alecyu/Desktop/Repos/AppliedDeepLearning/note-zart/models/resource/gen4/v2/output/sample_t1.1_k3.midi\n",
      "/Users/alecyu/Desktop/Repos/AppliedDeepLearning/note-zart/models/resource/gen4/v2/output/sample_t1.1_k4.midi\n",
      "/Users/alecyu/Desktop/Repos/AppliedDeepLearning/note-zart/models/resource/gen4/v2/output/sample_t1.1_k5.midi\n",
      "/Users/alecyu/Desktop/Repos/AppliedDeepLearning/note-zart/models/resource/gen4/v2/output/sample_t1.2000000000000002_k2.midi\n",
      "/Users/alecyu/Desktop/Repos/AppliedDeepLearning/note-zart/models/resource/gen4/v2/output/sample_t1.2000000000000002_k3.midi\n",
      "/Users/alecyu/Desktop/Repos/AppliedDeepLearning/note-zart/models/resource/gen4/v2/output/sample_t1.2000000000000002_k4.midi\n",
      "/Users/alecyu/Desktop/Repos/AppliedDeepLearning/note-zart/models/resource/gen4/v2/output/sample_t1.2000000000000002_k5.midi\n",
      "/Users/alecyu/Desktop/Repos/AppliedDeepLearning/note-zart/models/resource/gen4/v2/output/sample_t1.3000000000000003_k2.midi\n",
      "/Users/alecyu/Desktop/Repos/AppliedDeepLearning/note-zart/models/resource/gen4/v2/output/sample_t1.3000000000000003_k3.midi\n",
      "/Users/alecyu/Desktop/Repos/AppliedDeepLearning/note-zart/models/resource/gen4/v2/output/sample_t1.3000000000000003_k4.midi\n",
      "/Users/alecyu/Desktop/Repos/AppliedDeepLearning/note-zart/models/resource/gen4/v2/output/sample_t1.3000000000000003_k5.midi\n",
      "/Users/alecyu/Desktop/Repos/AppliedDeepLearning/note-zart/models/resource/gen4/v2/output/sample_t1.4000000000000004_k2.midi\n",
      "/Users/alecyu/Desktop/Repos/AppliedDeepLearning/note-zart/models/resource/gen4/v2/output/sample_t1.4000000000000004_k3.midi\n",
      "/Users/alecyu/Desktop/Repos/AppliedDeepLearning/note-zart/models/resource/gen4/v2/output/sample_t1.4000000000000004_k4.midi\n",
      "/Users/alecyu/Desktop/Repos/AppliedDeepLearning/note-zart/models/resource/gen4/v2/output/sample_t1.4000000000000004_k5.midi\n",
      "/Users/alecyu/Desktop/Repos/AppliedDeepLearning/note-zart/models/resource/gen4/v2/output/sample_t1.5000000000000004_k2.midi\n",
      "/Users/alecyu/Desktop/Repos/AppliedDeepLearning/note-zart/models/resource/gen4/v2/output/sample_t1.5000000000000004_k3.midi\n",
      "/Users/alecyu/Desktop/Repos/AppliedDeepLearning/note-zart/models/resource/gen4/v2/output/sample_t1.5000000000000004_k4.midi\n",
      "/Users/alecyu/Desktop/Repos/AppliedDeepLearning/note-zart/models/resource/gen4/v2/output/sample_t1.5000000000000004_k5.midi\n",
      "/Users/alecyu/Desktop/Repos/AppliedDeepLearning/note-zart/models/resource/gen4/v2/output/sample_t1.6000000000000005_k2.midi\n",
      "/Users/alecyu/Desktop/Repos/AppliedDeepLearning/note-zart/models/resource/gen4/v2/output/sample_t1.6000000000000005_k3.midi\n",
      "/Users/alecyu/Desktop/Repos/AppliedDeepLearning/note-zart/models/resource/gen4/v2/output/sample_t1.6000000000000005_k4.midi\n",
      "/Users/alecyu/Desktop/Repos/AppliedDeepLearning/note-zart/models/resource/gen4/v2/output/sample_t1.6000000000000005_k5.midi\n"
     ]
    }
   ],
   "source": [
    "model.generate(n_target_bar=20, temperature=1.2, topk=4, output_path=f\"{checkpoint_path}/output/sample_1.midi\", prompt=None)"
   ]
  }
 ],
 "metadata": {
  "kernelspec": {
   "display_name": "Python 3",
   "language": "python",
   "name": "python3"
  },
  "language_info": {
   "codemirror_mode": {
    "name": "ipython",
    "version": 3
   },
   "file_extension": ".py",
   "mimetype": "text/x-python",
   "name": "python",
   "nbconvert_exporter": "python",
   "pygments_lexer": "ipython3",
   "version": "3.7.10"
  }
 },
 "nbformat": 4,
 "nbformat_minor": 5
}
